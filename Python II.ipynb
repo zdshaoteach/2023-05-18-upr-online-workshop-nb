{
 "cells": [
  {
   "cell_type": "markdown",
   "id": "a906811f-e921-4350-a9f8-637096161dc8",
   "metadata": {},
   "source": [
    "# for if-else and while"
   ]
  },
  {
   "cell_type": "code",
   "execution_count": 1,
   "id": "9f4c1464-2864-4f24-931a-fa0db30c3290",
   "metadata": {},
   "outputs": [
    {
     "name": "stdout",
     "output_type": "stream",
     "text": [
      "[ 0.  0.  1.  3.  1.  2.  4.  7.  8.  3.  3.  3. 10.  5.  7.  4.  7.  7.\n",
      " 12. 18.  6. 13. 11. 11.  7.  7.  4.  6.  8.  8.  4.  4.  5.  7.  3.  4.\n",
      "  2.  3.  0.  0.]\n"
     ]
    }
   ],
   "source": [
    "import numpy as np\n",
    "\n",
    "filename = 'python-data/data/inflammation-01.csv'\n",
    "data = np.loadtxt(fname=filename, delimiter=',')\n",
    "row = data[0]\n",
    "print(row)"
   ]
  },
  {
   "cell_type": "code",
   "execution_count": 2,
   "id": "aa2b7db0-7c49-453a-8a4f-045c28c8776f",
   "metadata": {},
   "outputs": [
    {
     "name": "stdout",
     "output_type": "stream",
     "text": [
      "12.0\n",
      "18.0\n",
      "13.0\n",
      "11.0\n",
      "11.0\n"
     ]
    }
   ],
   "source": [
    "for item in row:\n",
    "    if item > 10:\n",
    "        print(item)"
   ]
  },
  {
   "cell_type": "markdown",
   "id": "5e99ae52-dcf4-486a-a053-352c73e9f6d9",
   "metadata": {},
   "source": [
    "syntax\n",
    "\n",
    "`for item in iterable:\n",
    "    do something`\n",
    "\n",
    "`if condition:\n",
    "    do something\n",
    "elif another_condition:\n",
    "    do another thing\n",
    "elif ...\n",
    "    ...\n",
    "else:\n",
    "    do some other something\n",
    "`"
   ]
  },
  {
   "cell_type": "code",
   "execution_count": 3,
   "id": "58edbae6-fa04-402b-b38f-9a2c9c2c766d",
   "metadata": {},
   "outputs": [
    {
     "ename": "SyntaxError",
     "evalue": "expected 'else' after 'if' expression (3945564809.py, line 1)",
     "output_type": "error",
     "traceback": [
      "\u001b[0;36m  Cell \u001b[0;32mIn[3], line 1\u001b[0;36m\u001b[0m\n\u001b[0;31m    large_values = [item if item > 10 for item in row]\u001b[0m\n\u001b[0m                    ^\u001b[0m\n\u001b[0;31mSyntaxError\u001b[0m\u001b[0;31m:\u001b[0m expected 'else' after 'if' expression\n"
     ]
    }
   ],
   "source": [
    "large_values = [item if item > 10 for item in row]\n",
    "print(large_values)"
   ]
  },
  {
   "cell_type": "code",
   "execution_count": 4,
   "id": "fc556f1c-9a79-466e-819d-af3058de0308",
   "metadata": {},
   "outputs": [
    {
     "name": "stdout",
     "output_type": "stream",
     "text": [
      "[12.0, 18.0, 13.0, 11.0, 11.0]\n"
     ]
    }
   ],
   "source": [
    "large_values = [item for item in row if item > 10]\n",
    "print(large_values)"
   ]
  },
  {
   "cell_type": "code",
   "execution_count": 5,
   "id": "1c836c55-ed72-4c37-a757-4c91b93e5a88",
   "metadata": {},
   "outputs": [
    {
     "name": "stdout",
     "output_type": "stream",
     "text": [
      "[0, 0, 0, 0, 0, 0, 0, 0, 0, 0, 0, 0, 0, 0, 0, 0, 0, 0, 1, 1, 0, 1, 1, 1, 0, 0, 0, 0, 0, 0, 0, 0, 0, 0, 0, 0, 0, 0, 0, 0]\n"
     ]
    }
   ],
   "source": [
    "binarized = [1 if item > 10 else 0 for item in row]\n",
    "print(binarized)"
   ]
  },
  {
   "cell_type": "markdown",
   "id": "bec047bb-193a-43c6-bcdd-a12c6328e2a8",
   "metadata": {},
   "source": [
    "`counter = 0\n",
    "while condition:\n",
    "    do something\n",
    "    counter += 1 # counter = counter + 1\n",
    "`"
   ]
  },
  {
   "cell_type": "code",
   "execution_count": 6,
   "id": "99f24ca1-620d-4842-a12c-ce2c48731c20",
   "metadata": {},
   "outputs": [
    {
     "name": "stdout",
     "output_type": "stream",
     "text": [
      "9 26.0\n"
     ]
    }
   ],
   "source": [
    "counter = 0\n",
    "sum = 0\n",
    "while sum < 20:\n",
    "    sum += row[counter]\n",
    "    counter += 1\n",
    "\n",
    "print(counter, sum)"
   ]
  },
  {
   "cell_type": "markdown",
   "id": "27b5cdcb-e5dd-49f9-855b-7f47d5d2d4eb",
   "metadata": {},
   "source": [
    "# functions"
   ]
  },
  {
   "cell_type": "markdown",
   "id": "113eb176-bd21-4f73-a212-b028b6cb7fb9",
   "metadata": {},
   "source": [
    "1. definition\n",
    "2. call a function"
   ]
  },
  {
   "cell_type": "code",
   "execution_count": 7,
   "id": "952d0cce-3532-4eec-8b64-fa770b6a7f72",
   "metadata": {},
   "outputs": [],
   "source": [
    "def fahr_to_celsius(temp):\n",
    "    return ((temp - 32) * (5 / 9))"
   ]
  },
  {
   "cell_type": "code",
   "execution_count": 8,
   "id": "5880642b-f919-4db3-850e-3ec288d9ef66",
   "metadata": {},
   "outputs": [
    {
     "name": "stdout",
     "output_type": "stream",
     "text": [
      "Help on function fahr_to_celsius in module __main__:\n",
      "\n",
      "fahr_to_celsius(temp)\n",
      "\n"
     ]
    }
   ],
   "source": [
    "help(fahr_to_celsius)"
   ]
  },
  {
   "cell_type": "code",
   "execution_count": 11,
   "id": "4c5b5726-fdd0-468d-b9e8-6a068012a3c3",
   "metadata": {},
   "outputs": [
    {
     "data": {
      "text/plain": [
       "21.11111111111111"
      ]
     },
     "execution_count": 11,
     "metadata": {},
     "output_type": "execute_result"
    }
   ],
   "source": [
    "fahr_to_celsius(70)"
   ]
  },
  {
   "cell_type": "code",
   "execution_count": 12,
   "id": "ef905bec-e588-4bbc-b528-69fd40dcf80b",
   "metadata": {},
   "outputs": [],
   "source": [
    "def minimum_function():\n",
    "    pass"
   ]
  },
  {
   "cell_type": "code",
   "execution_count": 13,
   "id": "cc542f70-57d1-4573-a32a-80c43fa9ed7b",
   "metadata": {},
   "outputs": [],
   "source": [
    "def function_that_prints():\n",
    "    print('this is a test message')"
   ]
  },
  {
   "cell_type": "code",
   "execution_count": 14,
   "id": "12b20a75-be34-4b70-8493-235d4d05595f",
   "metadata": {},
   "outputs": [],
   "source": [
    "minimum_function()"
   ]
  },
  {
   "cell_type": "code",
   "execution_count": 15,
   "id": "f0a20291-a347-494e-9439-7941a61c2ad8",
   "metadata": {},
   "outputs": [
    {
     "name": "stdout",
     "output_type": "stream",
     "text": [
      "this is a test message\n"
     ]
    }
   ],
   "source": [
    "function_that_prints()"
   ]
  },
  {
   "cell_type": "code",
   "execution_count": 16,
   "id": "b4e32fce-2ea1-4fd2-93a2-dc765ccbeaee",
   "metadata": {},
   "outputs": [
    {
     "ename": "SyntaxError",
     "evalue": "incomplete input (3796452102.py, line 1)",
     "output_type": "error",
     "traceback": [
      "\u001b[0;36m  Cell \u001b[0;32mIn[16], line 1\u001b[0;36m\u001b[0m\n\u001b[0;31m    def test_func():\u001b[0m\n\u001b[0m                    ^\u001b[0m\n\u001b[0;31mSyntaxError\u001b[0m\u001b[0;31m:\u001b[0m incomplete input\n"
     ]
    }
   ],
   "source": [
    "def test_func():"
   ]
  },
  {
   "cell_type": "code",
   "execution_count": 17,
   "id": "17b4ae46-2567-43a8-8f14-a682b7664501",
   "metadata": {},
   "outputs": [
    {
     "ename": "SyntaxError",
     "evalue": "incomplete input (58123811.py, line 1)",
     "output_type": "error",
     "traceback": [
      "\u001b[0;36m  Cell \u001b[0;32mIn[17], line 1\u001b[0;36m\u001b[0m\n\u001b[0;31m    for i in row:\u001b[0m\n\u001b[0m                 ^\u001b[0m\n\u001b[0;31mSyntaxError\u001b[0m\u001b[0;31m:\u001b[0m incomplete input\n"
     ]
    }
   ],
   "source": [
    "for i in row:"
   ]
  },
  {
   "cell_type": "code",
   "execution_count": 18,
   "id": "8995d3af-6db0-44be-830b-00cbaf3b86d8",
   "metadata": {},
   "outputs": [
    {
     "ename": "NameError",
     "evalue": "name 'temp' is not defined",
     "output_type": "error",
     "traceback": [
      "\u001b[0;31m---------------------------------------------------------------------------\u001b[0m",
      "\u001b[0;31mNameError\u001b[0m                                 Traceback (most recent call last)",
      "Cell \u001b[0;32mIn[18], line 1\u001b[0m\n\u001b[0;32m----> 1\u001b[0m \u001b[43mtemp\u001b[49m\n",
      "\u001b[0;31mNameError\u001b[0m: name 'temp' is not defined"
     ]
    }
   ],
   "source": [
    "temp"
   ]
  },
  {
   "cell_type": "code",
   "execution_count": 19,
   "id": "2f3ac1c9-a3ac-4df5-b6f8-856cd46bad76",
   "metadata": {},
   "outputs": [],
   "source": [
    "def another_test():\n",
    "    a_var = 16\n",
    "    return a_var\n",
    "\n",
    "a = another_test()"
   ]
  },
  {
   "cell_type": "code",
   "execution_count": 20,
   "id": "08f7248a-6dd8-456e-8064-301c3e88e466",
   "metadata": {},
   "outputs": [
    {
     "ename": "NameError",
     "evalue": "name 'a_var' is not defined",
     "output_type": "error",
     "traceback": [
      "\u001b[0;31m---------------------------------------------------------------------------\u001b[0m",
      "\u001b[0;31mNameError\u001b[0m                                 Traceback (most recent call last)",
      "Cell \u001b[0;32mIn[20], line 1\u001b[0m\n\u001b[0;32m----> 1\u001b[0m \u001b[43ma_var\u001b[49m\n",
      "\u001b[0;31mNameError\u001b[0m: name 'a_var' is not defined"
     ]
    }
   ],
   "source": [
    "a_var"
   ]
  },
  {
   "cell_type": "code",
   "execution_count": 21,
   "id": "f75c1173-de08-4c7b-9522-ae8ae45eca2f",
   "metadata": {},
   "outputs": [
    {
     "data": {
      "text/plain": [
       "16"
      ]
     },
     "execution_count": 21,
     "metadata": {},
     "output_type": "execute_result"
    }
   ],
   "source": [
    "a"
   ]
  },
  {
   "cell_type": "code",
   "execution_count": 22,
   "id": "522b54f0-b153-442a-b0ec-77a574170ff3",
   "metadata": {},
   "outputs": [
    {
     "name": "stdout",
     "output_type": "stream",
     "text": [
      "Help on int object:\n",
      "\n",
      "class int(object)\n",
      " |  int([x]) -> integer\n",
      " |  int(x, base=10) -> integer\n",
      " |  \n",
      " |  Convert a number or string to an integer, or return 0 if no arguments\n",
      " |  are given.  If x is a number, return x.__int__().  For floating point\n",
      " |  numbers, this truncates towards zero.\n",
      " |  \n",
      " |  If x is not a number or if base is given, then x must be a string,\n",
      " |  bytes, or bytearray instance representing an integer literal in the\n",
      " |  given base.  The literal can be preceded by '+' or '-' and be surrounded\n",
      " |  by whitespace.  The base defaults to 10.  Valid bases are 0 and 2-36.\n",
      " |  Base 0 means to interpret the base from the string as an integer literal.\n",
      " |  >>> int('0b100', base=0)\n",
      " |  4\n",
      " |  \n",
      " |  Built-in subclasses:\n",
      " |      bool\n",
      " |  \n",
      " |  Methods defined here:\n",
      " |  \n",
      " |  __abs__(self, /)\n",
      " |      abs(self)\n",
      " |  \n",
      " |  __add__(self, value, /)\n",
      " |      Return self+value.\n",
      " |  \n",
      " |  __and__(self, value, /)\n",
      " |      Return self&value.\n",
      " |  \n",
      " |  __bool__(self, /)\n",
      " |      True if self else False\n",
      " |  \n",
      " |  __ceil__(...)\n",
      " |      Ceiling of an Integral returns itself.\n",
      " |  \n",
      " |  __divmod__(self, value, /)\n",
      " |      Return divmod(self, value).\n",
      " |  \n",
      " |  __eq__(self, value, /)\n",
      " |      Return self==value.\n",
      " |  \n",
      " |  __float__(self, /)\n",
      " |      float(self)\n",
      " |  \n",
      " |  __floor__(...)\n",
      " |      Flooring an Integral returns itself.\n",
      " |  \n",
      " |  __floordiv__(self, value, /)\n",
      " |      Return self//value.\n",
      " |  \n",
      " |  __format__(self, format_spec, /)\n",
      " |      Default object formatter.\n",
      " |  \n",
      " |  __ge__(self, value, /)\n",
      " |      Return self>=value.\n",
      " |  \n",
      " |  __getattribute__(self, name, /)\n",
      " |      Return getattr(self, name).\n",
      " |  \n",
      " |  __getnewargs__(self, /)\n",
      " |  \n",
      " |  __gt__(self, value, /)\n",
      " |      Return self>value.\n",
      " |  \n",
      " |  __hash__(self, /)\n",
      " |      Return hash(self).\n",
      " |  \n",
      " |  __index__(self, /)\n",
      " |      Return self converted to an integer, if self is suitable for use as an index into a list.\n",
      " |  \n",
      " |  __int__(self, /)\n",
      " |      int(self)\n",
      " |  \n",
      " |  __invert__(self, /)\n",
      " |      ~self\n",
      " |  \n",
      " |  __le__(self, value, /)\n",
      " |      Return self<=value.\n",
      " |  \n",
      " |  __lshift__(self, value, /)\n",
      " |      Return self<<value.\n",
      " |  \n",
      " |  __lt__(self, value, /)\n",
      " |      Return self<value.\n",
      " |  \n",
      " |  __mod__(self, value, /)\n",
      " |      Return self%value.\n",
      " |  \n",
      " |  __mul__(self, value, /)\n",
      " |      Return self*value.\n",
      " |  \n",
      " |  __ne__(self, value, /)\n",
      " |      Return self!=value.\n",
      " |  \n",
      " |  __neg__(self, /)\n",
      " |      -self\n",
      " |  \n",
      " |  __or__(self, value, /)\n",
      " |      Return self|value.\n",
      " |  \n",
      " |  __pos__(self, /)\n",
      " |      +self\n",
      " |  \n",
      " |  __pow__(self, value, mod=None, /)\n",
      " |      Return pow(self, value, mod).\n",
      " |  \n",
      " |  __radd__(self, value, /)\n",
      " |      Return value+self.\n",
      " |  \n",
      " |  __rand__(self, value, /)\n",
      " |      Return value&self.\n",
      " |  \n",
      " |  __rdivmod__(self, value, /)\n",
      " |      Return divmod(value, self).\n",
      " |  \n",
      " |  __repr__(self, /)\n",
      " |      Return repr(self).\n",
      " |  \n",
      " |  __rfloordiv__(self, value, /)\n",
      " |      Return value//self.\n",
      " |  \n",
      " |  __rlshift__(self, value, /)\n",
      " |      Return value<<self.\n",
      " |  \n",
      " |  __rmod__(self, value, /)\n",
      " |      Return value%self.\n",
      " |  \n",
      " |  __rmul__(self, value, /)\n",
      " |      Return value*self.\n",
      " |  \n",
      " |  __ror__(self, value, /)\n",
      " |      Return value|self.\n",
      " |  \n",
      " |  __round__(...)\n",
      " |      Rounding an Integral returns itself.\n",
      " |      \n",
      " |      Rounding with an ndigits argument also returns an integer.\n",
      " |  \n",
      " |  __rpow__(self, value, mod=None, /)\n",
      " |      Return pow(value, self, mod).\n",
      " |  \n",
      " |  __rrshift__(self, value, /)\n",
      " |      Return value>>self.\n",
      " |  \n",
      " |  __rshift__(self, value, /)\n",
      " |      Return self>>value.\n",
      " |  \n",
      " |  __rsub__(self, value, /)\n",
      " |      Return value-self.\n",
      " |  \n",
      " |  __rtruediv__(self, value, /)\n",
      " |      Return value/self.\n",
      " |  \n",
      " |  __rxor__(self, value, /)\n",
      " |      Return value^self.\n",
      " |  \n",
      " |  __sizeof__(self, /)\n",
      " |      Returns size in memory, in bytes.\n",
      " |  \n",
      " |  __sub__(self, value, /)\n",
      " |      Return self-value.\n",
      " |  \n",
      " |  __truediv__(self, value, /)\n",
      " |      Return self/value.\n",
      " |  \n",
      " |  __trunc__(...)\n",
      " |      Truncating an Integral returns itself.\n",
      " |  \n",
      " |  __xor__(self, value, /)\n",
      " |      Return self^value.\n",
      " |  \n",
      " |  as_integer_ratio(self, /)\n",
      " |      Return integer ratio.\n",
      " |      \n",
      " |      Return a pair of integers, whose ratio is exactly equal to the original int\n",
      " |      and with a positive denominator.\n",
      " |      \n",
      " |      >>> (10).as_integer_ratio()\n",
      " |      (10, 1)\n",
      " |      >>> (-10).as_integer_ratio()\n",
      " |      (-10, 1)\n",
      " |      >>> (0).as_integer_ratio()\n",
      " |      (0, 1)\n",
      " |  \n",
      " |  bit_count(self, /)\n",
      " |      Number of ones in the binary representation of the absolute value of self.\n",
      " |      \n",
      " |      Also known as the population count.\n",
      " |      \n",
      " |      >>> bin(13)\n",
      " |      '0b1101'\n",
      " |      >>> (13).bit_count()\n",
      " |      3\n",
      " |  \n",
      " |  bit_length(self, /)\n",
      " |      Number of bits necessary to represent self in binary.\n",
      " |      \n",
      " |      >>> bin(37)\n",
      " |      '0b100101'\n",
      " |      >>> (37).bit_length()\n",
      " |      6\n",
      " |  \n",
      " |  conjugate(...)\n",
      " |      Returns self, the complex conjugate of any int.\n",
      " |  \n",
      " |  to_bytes(self, /, length, byteorder, *, signed=False)\n",
      " |      Return an array of bytes representing an integer.\n",
      " |      \n",
      " |      length\n",
      " |        Length of bytes object to use.  An OverflowError is raised if the\n",
      " |        integer is not representable with the given number of bytes.\n",
      " |      byteorder\n",
      " |        The byte order used to represent the integer.  If byteorder is 'big',\n",
      " |        the most significant byte is at the beginning of the byte array.  If\n",
      " |        byteorder is 'little', the most significant byte is at the end of the\n",
      " |        byte array.  To request the native byte order of the host system, use\n",
      " |        `sys.byteorder' as the byte order value.\n",
      " |      signed\n",
      " |        Determines whether two's complement is used to represent the integer.\n",
      " |        If signed is False and a negative integer is given, an OverflowError\n",
      " |        is raised.\n",
      " |  \n",
      " |  ----------------------------------------------------------------------\n",
      " |  Class methods defined here:\n",
      " |  \n",
      " |  from_bytes(bytes, byteorder, *, signed=False) from builtins.type\n",
      " |      Return the integer represented by the given array of bytes.\n",
      " |      \n",
      " |      bytes\n",
      " |        Holds the array of bytes to convert.  The argument must either\n",
      " |        support the buffer protocol or be an iterable object producing bytes.\n",
      " |        Bytes and bytearray are examples of built-in objects that support the\n",
      " |        buffer protocol.\n",
      " |      byteorder\n",
      " |        The byte order used to represent the integer.  If byteorder is 'big',\n",
      " |        the most significant byte is at the beginning of the byte array.  If\n",
      " |        byteorder is 'little', the most significant byte is at the end of the\n",
      " |        byte array.  To request the native byte order of the host system, use\n",
      " |        `sys.byteorder' as the byte order value.\n",
      " |      signed\n",
      " |        Indicates whether two's complement is used to represent the integer.\n",
      " |  \n",
      " |  ----------------------------------------------------------------------\n",
      " |  Static methods defined here:\n",
      " |  \n",
      " |  __new__(*args, **kwargs) from builtins.type\n",
      " |      Create and return a new object.  See help(type) for accurate signature.\n",
      " |  \n",
      " |  ----------------------------------------------------------------------\n",
      " |  Data descriptors defined here:\n",
      " |  \n",
      " |  denominator\n",
      " |      the denominator of a rational number in lowest terms\n",
      " |  \n",
      " |  imag\n",
      " |      the imaginary part of a complex number\n",
      " |  \n",
      " |  numerator\n",
      " |      the numerator of a rational number in lowest terms\n",
      " |  \n",
      " |  real\n",
      " |      the real part of a complex number\n",
      "\n"
     ]
    }
   ],
   "source": [
    "help(a)"
   ]
  },
  {
   "cell_type": "code",
   "execution_count": 23,
   "id": "ae6b6149-a966-4acb-b178-83ad8045dc93",
   "metadata": {},
   "outputs": [
    {
     "name": "stdout",
     "output_type": "stream",
     "text": [
      "16\n"
     ]
    }
   ],
   "source": [
    "a = 16\n",
    "def test_global_var():\n",
    "    print(a)\n",
    "\n",
    "test_global_var()"
   ]
  },
  {
   "cell_type": "code",
   "execution_count": 24,
   "id": "a638ebd7-2411-4979-9177-a1fad9c8d934",
   "metadata": {},
   "outputs": [
    {
     "name": "stdout",
     "output_type": "stream",
     "text": [
      "27\n",
      "16\n"
     ]
    }
   ],
   "source": [
    "a = 16\n",
    "def test_global_var():\n",
    "    a = 27\n",
    "    print(a)\n",
    "\n",
    "test_global_var()\n",
    "print(a)"
   ]
  },
  {
   "cell_type": "code",
   "execution_count": 25,
   "id": "8b810993-85bc-4f38-be54-9e3679ca3c28",
   "metadata": {},
   "outputs": [
    {
     "data": {
      "text/plain": [
       "16"
      ]
     },
     "execution_count": 25,
     "metadata": {},
     "output_type": "execute_result"
    }
   ],
   "source": [
    "a"
   ]
  },
  {
   "cell_type": "code",
   "execution_count": 26,
   "id": "c8576cfd-8204-42b4-a615-0a69bf660626",
   "metadata": {},
   "outputs": [
    {
     "name": "stdout",
     "output_type": "stream",
     "text": [
      "27\n"
     ]
    }
   ],
   "source": [
    "test_global_var()"
   ]
  },
  {
   "cell_type": "code",
   "execution_count": 27,
   "id": "5a62fe58-253a-4e03-afdd-4fd7083df337",
   "metadata": {},
   "outputs": [
    {
     "data": {
      "text/plain": [
       "16"
      ]
     },
     "execution_count": 27,
     "metadata": {},
     "output_type": "execute_result"
    }
   ],
   "source": [
    "a"
   ]
  },
  {
   "cell_type": "code",
   "execution_count": 28,
   "id": "50ffab2f-c493-4636-80cc-04ef5b8d7d5a",
   "metadata": {},
   "outputs": [
    {
     "name": "stdout",
     "output_type": "stream",
     "text": [
      "27\n",
      "27\n"
     ]
    }
   ],
   "source": [
    "a = 16\n",
    "def test_global_var():\n",
    "    global a\n",
    "    a = 27\n",
    "    print(a)\n",
    "\n",
    "test_global_var()\n",
    "print(a)"
   ]
  },
  {
   "cell_type": "code",
   "execution_count": 29,
   "id": "4f63e7c1-404a-4db8-ab1c-1f272dfa7ebc",
   "metadata": {},
   "outputs": [
    {
     "name": "stdout",
     "output_type": "stream",
     "text": [
      "None\n"
     ]
    }
   ],
   "source": [
    "def arb_func():\n",
    "    pass\n",
    "\n",
    "b = arb_func()\n",
    "print(b)"
   ]
  },
  {
   "cell_type": "code",
   "execution_count": 30,
   "id": "df193085-0c1d-4bbb-9f8e-9fab4eb42bc0",
   "metadata": {},
   "outputs": [
    {
     "name": "stdout",
     "output_type": "stream",
     "text": [
      "None\n"
     ]
    }
   ],
   "source": [
    "def arb_func():\n",
    "    pass\n",
    "    return None\n",
    "\n",
    "b = arb_func()\n",
    "print(b)"
   ]
  },
  {
   "cell_type": "code",
   "execution_count": 31,
   "id": "a2e9c43a-e1b1-4041-b8f1-fcf673aa184d",
   "metadata": {},
   "outputs": [
    {
     "data": {
      "text/plain": [
       "'14:54:30'"
      ]
     },
     "execution_count": 31,
     "metadata": {},
     "output_type": "execute_result"
    }
   ],
   "source": [
    "def format_time(hour, minute, second):\n",
    "    return '{}:{}:{}'.format(hour, minute, second)\n",
    "\n",
    "format_time(14, 54, 30)"
   ]
  },
  {
   "cell_type": "code",
   "execution_count": 32,
   "id": "3357df99-37a3-44d1-b303-268f8040a69e",
   "metadata": {},
   "outputs": [
    {
     "name": "stdout",
     "output_type": "stream",
     "text": [
      "14:54:30\n",
      "0:0:0\n"
     ]
    }
   ],
   "source": [
    "def format_time(hour=0, minute=0, second=0):\n",
    "    return '{}:{}:{}'.format(hour, minute, second)\n",
    "\n",
    "print(format_time(14, 54, 30))\n",
    "print(format_time())"
   ]
  },
  {
   "cell_type": "code",
   "execution_count": 33,
   "id": "7e0d5005-2e73-41c9-b26c-05a9839744f9",
   "metadata": {},
   "outputs": [
    {
     "name": "stdout",
     "output_type": "stream",
     "text": [
      "14:0:0\n"
     ]
    }
   ],
   "source": [
    "print(format_time(14))"
   ]
  },
  {
   "cell_type": "code",
   "execution_count": 34,
   "id": "e066fe77-0d89-45b0-9aba-590996631a42",
   "metadata": {},
   "outputs": [
    {
     "data": {
      "text/plain": [
       "'[14, 54, 30]:0:0'"
      ]
     },
     "execution_count": 34,
     "metadata": {},
     "output_type": "execute_result"
    }
   ],
   "source": [
    "input_values = [14, 54, 30]\n",
    "format_time(input_values)"
   ]
  },
  {
   "cell_type": "code",
   "execution_count": 35,
   "id": "a58ddf54-3214-46b6-89ff-40dac9eb8fc6",
   "metadata": {},
   "outputs": [
    {
     "data": {
      "text/plain": [
       "'14:54:30'"
      ]
     },
     "execution_count": 35,
     "metadata": {},
     "output_type": "execute_result"
    }
   ],
   "source": [
    "format_time(*input_values)"
   ]
  },
  {
   "cell_type": "code",
   "execution_count": 37,
   "id": "d45cbc8b-3385-442d-96e6-9ea5bb80eaa5",
   "metadata": {},
   "outputs": [
    {
     "ename": "TypeError",
     "evalue": "format_time() takes from 0 to 3 positional arguments but 5 were given",
     "output_type": "error",
     "traceback": [
      "\u001b[0;31m---------------------------------------------------------------------------\u001b[0m",
      "\u001b[0;31mTypeError\u001b[0m                                 Traceback (most recent call last)",
      "Cell \u001b[0;32mIn[37], line 2\u001b[0m\n\u001b[1;32m      1\u001b[0m input_values \u001b[38;5;241m=\u001b[39m [\u001b[38;5;241m14\u001b[39m, \u001b[38;5;241m54\u001b[39m, \u001b[38;5;241m30\u001b[39m, \u001b[38;5;241m45\u001b[39m, \u001b[38;5;241m23\u001b[39m]\n\u001b[0;32m----> 2\u001b[0m \u001b[43mformat_time\u001b[49m\u001b[43m(\u001b[49m\u001b[38;5;241;43m*\u001b[39;49m\u001b[43minput_values\u001b[49m\u001b[43m)\u001b[49m\n",
      "\u001b[0;31mTypeError\u001b[0m: format_time() takes from 0 to 3 positional arguments but 5 were given"
     ]
    }
   ],
   "source": [
    "input_values = [14, 54, 30, 45, 23]\n",
    "format_time(*input_values)"
   ]
  },
  {
   "cell_type": "code",
   "execution_count": 38,
   "id": "14a44251-05ae-4237-a751-5452d6b9643b",
   "metadata": {},
   "outputs": [
    {
     "data": {
      "text/plain": [
       "'14:54:30'"
      ]
     },
     "execution_count": 38,
     "metadata": {},
     "output_type": "execute_result"
    }
   ],
   "source": [
    "format_time(minute=54, hour=14, second=30)"
   ]
  },
  {
   "cell_type": "code",
   "execution_count": 39,
   "id": "395f9421-4584-4e5d-b82f-2069a199abf2",
   "metadata": {},
   "outputs": [
    {
     "name": "stdout",
     "output_type": "stream",
     "text": [
      "{'minute': 54, 'hour': 14, 'second': 30}\n"
     ]
    }
   ],
   "source": [
    "input_dict = {'minute':54,'hour':14, 'second':30}\n",
    "print(input_dict)"
   ]
  },
  {
   "cell_type": "code",
   "execution_count": 42,
   "id": "935471cc-a1b9-41d0-86be-55db9ffbd1cf",
   "metadata": {},
   "outputs": [
    {
     "data": {
      "text/plain": [
       "\"{'minute': 54, 'hour': 14, 'second': 30}:0:0\""
      ]
     },
     "execution_count": 42,
     "metadata": {},
     "output_type": "execute_result"
    }
   ],
   "source": [
    "format_time(input_dict)"
   ]
  },
  {
   "cell_type": "code",
   "execution_count": 43,
   "id": "4093d322-5b73-4d7f-9f99-5d4dfa48935b",
   "metadata": {},
   "outputs": [
    {
     "data": {
      "text/plain": [
       "'minute:hour:second'"
      ]
     },
     "execution_count": 43,
     "metadata": {},
     "output_type": "execute_result"
    }
   ],
   "source": [
    "format_time(*input_dict)"
   ]
  },
  {
   "cell_type": "code",
   "execution_count": 44,
   "id": "99e317e1-655d-41c0-8a2a-9939219dc2fa",
   "metadata": {},
   "outputs": [
    {
     "data": {
      "text/plain": [
       "'14:54:30'"
      ]
     },
     "execution_count": 44,
     "metadata": {},
     "output_type": "execute_result"
    }
   ],
   "source": [
    "input_dict = {'minute':54,'hour':14, 'second':30}\n",
    "format_time(**input_dict)"
   ]
  },
  {
   "cell_type": "code",
   "execution_count": 45,
   "id": "86e269c2-5d51-4146-950b-e1f709050fb6",
   "metadata": {},
   "outputs": [
    {
     "name": "stdout",
     "output_type": "stream",
     "text": [
      "Help on function plot in module matplotlib.pyplot:\n",
      "\n",
      "plot(*args, scalex=True, scaley=True, data=None, **kwargs)\n",
      "    Plot y versus x as lines and/or markers.\n",
      "    \n",
      "    Call signatures::\n",
      "    \n",
      "        plot([x], y, [fmt], *, data=None, **kwargs)\n",
      "        plot([x], y, [fmt], [x2], y2, [fmt2], ..., **kwargs)\n",
      "    \n",
      "    The coordinates of the points or line nodes are given by *x*, *y*.\n",
      "    \n",
      "    The optional parameter *fmt* is a convenient way for defining basic\n",
      "    formatting like color, marker and linestyle. It's a shortcut string\n",
      "    notation described in the *Notes* section below.\n",
      "    \n",
      "    >>> plot(x, y)        # plot x and y using default line style and color\n",
      "    >>> plot(x, y, 'bo')  # plot x and y using blue circle markers\n",
      "    >>> plot(y)           # plot y using x as index array 0..N-1\n",
      "    >>> plot(y, 'r+')     # ditto, but with red plusses\n",
      "    \n",
      "    You can use `.Line2D` properties as keyword arguments for more\n",
      "    control on the appearance. Line properties and *fmt* can be mixed.\n",
      "    The following two calls yield identical results:\n",
      "    \n",
      "    >>> plot(x, y, 'go--', linewidth=2, markersize=12)\n",
      "    >>> plot(x, y, color='green', marker='o', linestyle='dashed',\n",
      "    ...      linewidth=2, markersize=12)\n",
      "    \n",
      "    When conflicting with *fmt*, keyword arguments take precedence.\n",
      "    \n",
      "    \n",
      "    **Plotting labelled data**\n",
      "    \n",
      "    There's a convenient way for plotting objects with labelled data (i.e.\n",
      "    data that can be accessed by index ``obj['y']``). Instead of giving\n",
      "    the data in *x* and *y*, you can provide the object in the *data*\n",
      "    parameter and just give the labels for *x* and *y*::\n",
      "    \n",
      "    >>> plot('xlabel', 'ylabel', data=obj)\n",
      "    \n",
      "    All indexable objects are supported. This could e.g. be a `dict`, a\n",
      "    `pandas.DataFrame` or a structured numpy array.\n",
      "    \n",
      "    \n",
      "    **Plotting multiple sets of data**\n",
      "    \n",
      "    There are various ways to plot multiple sets of data.\n",
      "    \n",
      "    - The most straight forward way is just to call `plot` multiple times.\n",
      "      Example:\n",
      "    \n",
      "      >>> plot(x1, y1, 'bo')\n",
      "      >>> plot(x2, y2, 'go')\n",
      "    \n",
      "    - If *x* and/or *y* are 2D arrays a separate data set will be drawn\n",
      "      for every column. If both *x* and *y* are 2D, they must have the\n",
      "      same shape. If only one of them is 2D with shape (N, m) the other\n",
      "      must have length N and will be used for every data set m.\n",
      "    \n",
      "      Example:\n",
      "    \n",
      "      >>> x = [1, 2, 3]\n",
      "      >>> y = np.array([[1, 2], [3, 4], [5, 6]])\n",
      "      >>> plot(x, y)\n",
      "    \n",
      "      is equivalent to:\n",
      "    \n",
      "      >>> for col in range(y.shape[1]):\n",
      "      ...     plot(x, y[:, col])\n",
      "    \n",
      "    - The third way is to specify multiple sets of *[x]*, *y*, *[fmt]*\n",
      "      groups::\n",
      "    \n",
      "      >>> plot(x1, y1, 'g^', x2, y2, 'g-')\n",
      "    \n",
      "      In this case, any additional keyword argument applies to all\n",
      "      datasets. Also, this syntax cannot be combined with the *data*\n",
      "      parameter.\n",
      "    \n",
      "    By default, each line is assigned a different style specified by a\n",
      "    'style cycle'. The *fmt* and line property parameters are only\n",
      "    necessary if you want explicit deviations from these defaults.\n",
      "    Alternatively, you can also change the style cycle using\n",
      "    :rc:`axes.prop_cycle`.\n",
      "    \n",
      "    \n",
      "    Parameters\n",
      "    ----------\n",
      "    x, y : array-like or scalar\n",
      "        The horizontal / vertical coordinates of the data points.\n",
      "        *x* values are optional and default to ``range(len(y))``.\n",
      "    \n",
      "        Commonly, these parameters are 1D arrays.\n",
      "    \n",
      "        They can also be scalars, or two-dimensional (in that case, the\n",
      "        columns represent separate data sets).\n",
      "    \n",
      "        These arguments cannot be passed as keywords.\n",
      "    \n",
      "    fmt : str, optional\n",
      "        A format string, e.g. 'ro' for red circles. See the *Notes*\n",
      "        section for a full description of the format strings.\n",
      "    \n",
      "        Format strings are just an abbreviation for quickly setting\n",
      "        basic line properties. All of these and more can also be\n",
      "        controlled by keyword arguments.\n",
      "    \n",
      "        This argument cannot be passed as keyword.\n",
      "    \n",
      "    data : indexable object, optional\n",
      "        An object with labelled data. If given, provide the label names to\n",
      "        plot in *x* and *y*.\n",
      "    \n",
      "        .. note::\n",
      "            Technically there's a slight ambiguity in calls where the\n",
      "            second label is a valid *fmt*. ``plot('n', 'o', data=obj)``\n",
      "            could be ``plt(x, y)`` or ``plt(y, fmt)``. In such cases,\n",
      "            the former interpretation is chosen, but a warning is issued.\n",
      "            You may suppress the warning by adding an empty format string\n",
      "            ``plot('n', 'o', '', data=obj)``.\n",
      "    \n",
      "    Returns\n",
      "    -------\n",
      "    list of `.Line2D`\n",
      "        A list of lines representing the plotted data.\n",
      "    \n",
      "    Other Parameters\n",
      "    ----------------\n",
      "    scalex, scaley : bool, default: True\n",
      "        These parameters determine if the view limits are adapted to the\n",
      "        data limits. The values are passed on to\n",
      "        `~.axes.Axes.autoscale_view`.\n",
      "    \n",
      "    **kwargs : `.Line2D` properties, optional\n",
      "        *kwargs* are used to specify properties like a line label (for\n",
      "        auto legends), linewidth, antialiasing, marker face color.\n",
      "        Example::\n",
      "    \n",
      "        >>> plot([1, 2, 3], [1, 2, 3], 'go-', label='line 1', linewidth=2)\n",
      "        >>> plot([1, 2, 3], [1, 4, 9], 'rs', label='line 2')\n",
      "    \n",
      "        If you specify multiple lines with one plot call, the kwargs apply\n",
      "        to all those lines. In case the label object is iterable, each\n",
      "        element is used as labels for each set of data.\n",
      "    \n",
      "        Here is a list of available `.Line2D` properties:\n",
      "    \n",
      "        Properties:\n",
      "        agg_filter: a filter function, which takes a (m, n, 3) float array and a dpi value, and returns a (m, n, 3) array and two offsets from the bottom left corner of the image\n",
      "        alpha: scalar or None\n",
      "        animated: bool\n",
      "        antialiased or aa: bool\n",
      "        clip_box: `.Bbox`\n",
      "        clip_on: bool\n",
      "        clip_path: Patch or (Path, Transform) or None\n",
      "        color or c: color\n",
      "        dash_capstyle: `.CapStyle` or {'butt', 'projecting', 'round'}\n",
      "        dash_joinstyle: `.JoinStyle` or {'miter', 'round', 'bevel'}\n",
      "        dashes: sequence of floats (on/off ink in points) or (None, None)\n",
      "        data: (2, N) array or two 1D arrays\n",
      "        drawstyle or ds: {'default', 'steps', 'steps-pre', 'steps-mid', 'steps-post'}, default: 'default'\n",
      "        figure: `.Figure`\n",
      "        fillstyle: {'full', 'left', 'right', 'bottom', 'top', 'none'}\n",
      "        gapcolor: color or None\n",
      "        gid: str\n",
      "        in_layout: bool\n",
      "        label: object\n",
      "        linestyle or ls: {'-', '--', '-.', ':', '', (offset, on-off-seq), ...}\n",
      "        linewidth or lw: float\n",
      "        marker: marker style string, `~.path.Path` or `~.markers.MarkerStyle`\n",
      "        markeredgecolor or mec: color\n",
      "        markeredgewidth or mew: float\n",
      "        markerfacecolor or mfc: color\n",
      "        markerfacecoloralt or mfcalt: color\n",
      "        markersize or ms: float\n",
      "        markevery: None or int or (int, int) or slice or list[int] or float or (float, float) or list[bool]\n",
      "        mouseover: bool\n",
      "        path_effects: `.AbstractPathEffect`\n",
      "        picker: float or callable[[Artist, Event], tuple[bool, dict]]\n",
      "        pickradius: unknown\n",
      "        rasterized: bool\n",
      "        sketch_params: (scale: float, length: float, randomness: float)\n",
      "        snap: bool or None\n",
      "        solid_capstyle: `.CapStyle` or {'butt', 'projecting', 'round'}\n",
      "        solid_joinstyle: `.JoinStyle` or {'miter', 'round', 'bevel'}\n",
      "        transform: unknown\n",
      "        url: str\n",
      "        visible: bool\n",
      "        xdata: 1D array\n",
      "        ydata: 1D array\n",
      "        zorder: float\n",
      "    \n",
      "    See Also\n",
      "    --------\n",
      "    scatter : XY scatter plot with markers of varying size and/or color (\n",
      "        sometimes also called bubble chart).\n",
      "    \n",
      "    Notes\n",
      "    -----\n",
      "    **Format Strings**\n",
      "    \n",
      "    A format string consists of a part for color, marker and line::\n",
      "    \n",
      "        fmt = '[marker][line][color]'\n",
      "    \n",
      "    Each of them is optional. If not provided, the value from the style\n",
      "    cycle is used. Exception: If ``line`` is given, but no ``marker``,\n",
      "    the data will be a line without markers.\n",
      "    \n",
      "    Other combinations such as ``[color][marker][line]`` are also\n",
      "    supported, but note that their parsing may be ambiguous.\n",
      "    \n",
      "    **Markers**\n",
      "    \n",
      "    =============   ===============================\n",
      "    character       description\n",
      "    =============   ===============================\n",
      "    ``'.'``         point marker\n",
      "    ``','``         pixel marker\n",
      "    ``'o'``         circle marker\n",
      "    ``'v'``         triangle_down marker\n",
      "    ``'^'``         triangle_up marker\n",
      "    ``'<'``         triangle_left marker\n",
      "    ``'>'``         triangle_right marker\n",
      "    ``'1'``         tri_down marker\n",
      "    ``'2'``         tri_up marker\n",
      "    ``'3'``         tri_left marker\n",
      "    ``'4'``         tri_right marker\n",
      "    ``'8'``         octagon marker\n",
      "    ``'s'``         square marker\n",
      "    ``'p'``         pentagon marker\n",
      "    ``'P'``         plus (filled) marker\n",
      "    ``'*'``         star marker\n",
      "    ``'h'``         hexagon1 marker\n",
      "    ``'H'``         hexagon2 marker\n",
      "    ``'+'``         plus marker\n",
      "    ``'x'``         x marker\n",
      "    ``'X'``         x (filled) marker\n",
      "    ``'D'``         diamond marker\n",
      "    ``'d'``         thin_diamond marker\n",
      "    ``'|'``         vline marker\n",
      "    ``'_'``         hline marker\n",
      "    =============   ===============================\n",
      "    \n",
      "    **Line Styles**\n",
      "    \n",
      "    =============    ===============================\n",
      "    character        description\n",
      "    =============    ===============================\n",
      "    ``'-'``          solid line style\n",
      "    ``'--'``         dashed line style\n",
      "    ``'-.'``         dash-dot line style\n",
      "    ``':'``          dotted line style\n",
      "    =============    ===============================\n",
      "    \n",
      "    Example format strings::\n",
      "    \n",
      "        'b'    # blue markers with default shape\n",
      "        'or'   # red circles\n",
      "        '-g'   # green solid line\n",
      "        '--'   # dashed line with default color\n",
      "        '^k:'  # black triangle_up markers connected by a dotted line\n",
      "    \n",
      "    **Colors**\n",
      "    \n",
      "    The supported color abbreviations are the single letter codes\n",
      "    \n",
      "    =============    ===============================\n",
      "    character        color\n",
      "    =============    ===============================\n",
      "    ``'b'``          blue\n",
      "    ``'g'``          green\n",
      "    ``'r'``          red\n",
      "    ``'c'``          cyan\n",
      "    ``'m'``          magenta\n",
      "    ``'y'``          yellow\n",
      "    ``'k'``          black\n",
      "    ``'w'``          white\n",
      "    =============    ===============================\n",
      "    \n",
      "    and the ``'CN'`` colors that index into the default property cycle.\n",
      "    \n",
      "    If the color is the only part of the format string, you can\n",
      "    additionally use any  `matplotlib.colors` spec, e.g. full names\n",
      "    (``'green'``) or hex strings (``'#008000'``).\n",
      "\n"
     ]
    }
   ],
   "source": [
    "import matplotlib.pyplot as plt\n",
    "\n",
    "help(plt.plot)"
   ]
  },
  {
   "cell_type": "code",
   "execution_count": 46,
   "id": "18680066-1fa8-463f-bb70-66323ae10954",
   "metadata": {},
   "outputs": [
    {
     "name": "stdout",
     "output_type": "stream",
     "text": [
      "()\n",
      "{}\n"
     ]
    }
   ],
   "source": [
    "def complex_inputs(*args, **kwargs):\n",
    "    print(args)\n",
    "    print(kwargs)\n",
    "\n",
    "\n",
    "complex_inputs()"
   ]
  },
  {
   "cell_type": "code",
   "execution_count": 47,
   "id": "366e0910-4d21-403f-8700-139d090a649b",
   "metadata": {},
   "outputs": [
    {
     "name": "stdout",
     "output_type": "stream",
     "text": [
      "(1, 2, 3, 4)\n",
      "{}\n"
     ]
    }
   ],
   "source": [
    "complex_inputs(1,2,3,4)"
   ]
  },
  {
   "cell_type": "code",
   "execution_count": 48,
   "id": "4c421745-d551-42f7-b8ff-a2d9287b6a67",
   "metadata": {},
   "outputs": [
    {
     "name": "stdout",
     "output_type": "stream",
     "text": [
      "(1, 2, 3, 4, 5, 6, 7, 8, 9)\n",
      "{}\n"
     ]
    }
   ],
   "source": [
    "complex_inputs(1,2,3,4,5,6,7,8,9)"
   ]
  },
  {
   "cell_type": "code",
   "execution_count": 49,
   "id": "724c49fc-114f-4890-ad22-370d4d18aea5",
   "metadata": {},
   "outputs": [
    {
     "name": "stdout",
     "output_type": "stream",
     "text": [
      "(1, 2, 3, 4)\n",
      "{'a': 'a', 'b': 'b'}\n"
     ]
    }
   ],
   "source": [
    "complex_inputs(1,2,3,4,a='a',b='b')"
   ]
  },
  {
   "cell_type": "markdown",
   "id": "e022fe36-8248-4448-aa27-4a0b7902e806",
   "metadata": {},
   "source": [
    "# Python Class"
   ]
  },
  {
   "cell_type": "code",
   "execution_count": 50,
   "id": "ae1fe093-029a-4dac-87a7-29bd6a6a87c4",
   "metadata": {},
   "outputs": [],
   "source": [
    "class AClass():\n",
    "    pass\n",
    "\n",
    "ac = AClass()"
   ]
  },
  {
   "cell_type": "code",
   "execution_count": 51,
   "id": "dadb4c62-6d0b-43a4-89ae-93c58e1c8c34",
   "metadata": {},
   "outputs": [
    {
     "name": "stdout",
     "output_type": "stream",
     "text": [
      "Help on class AClass in module __main__:\n",
      "\n",
      "class AClass(builtins.object)\n",
      " |  Data descriptors defined here:\n",
      " |  \n",
      " |  __dict__\n",
      " |      dictionary for instance variables (if defined)\n",
      " |  \n",
      " |  __weakref__\n",
      " |      list of weak references to the object (if defined)\n",
      "\n"
     ]
    }
   ],
   "source": [
    "help(AClass)"
   ]
  },
  {
   "cell_type": "code",
   "execution_count": 52,
   "id": "9c0df3cb-6279-48a6-801a-08800f2acb95",
   "metadata": {},
   "outputs": [
    {
     "name": "stdout",
     "output_type": "stream",
     "text": [
      "Help on AClass in module __main__ object:\n",
      "\n",
      "class AClass(builtins.object)\n",
      " |  Data descriptors defined here:\n",
      " |  \n",
      " |  __dict__\n",
      " |      dictionary for instance variables (if defined)\n",
      " |  \n",
      " |  __weakref__\n",
      " |      list of weak references to the object (if defined)\n",
      "\n"
     ]
    }
   ],
   "source": [
    "help(ac)"
   ]
  },
  {
   "cell_type": "code",
   "execution_count": 53,
   "id": "6298c784-f5b9-4ea9-97fa-fadb1aca2b5f",
   "metadata": {},
   "outputs": [
    {
     "name": "stdout",
     "output_type": "stream",
     "text": [
      "Help on AClass in module __main__ object:\n",
      "\n",
      "class AClass(builtins.object)\n",
      " |  Data descriptors defined here:\n",
      " |  \n",
      " |  __dict__\n",
      " |      dictionary for instance variables (if defined)\n",
      " |  \n",
      " |  __weakref__\n",
      " |      list of weak references to the object (if defined)\n",
      "\n"
     ]
    }
   ],
   "source": [
    "class AClass(object):\n",
    "    pass\n",
    "\n",
    "ac = AClass()\n",
    "help(ac)"
   ]
  },
  {
   "cell_type": "code",
   "execution_count": 54,
   "id": "b4ca65d8-a60a-4f7f-adec-c64ac62832bc",
   "metadata": {},
   "outputs": [
    {
     "name": "stdout",
     "output_type": "stream",
     "text": [
      "Help on BClass in module __main__ object:\n",
      "\n",
      "class BClass(AClass)\n",
      " |  Method resolution order:\n",
      " |      BClass\n",
      " |      AClass\n",
      " |      builtins.object\n",
      " |  \n",
      " |  Data descriptors inherited from AClass:\n",
      " |  \n",
      " |  __dict__\n",
      " |      dictionary for instance variables (if defined)\n",
      " |  \n",
      " |  __weakref__\n",
      " |      list of weak references to the object (if defined)\n",
      "\n"
     ]
    }
   ],
   "source": [
    "class BClass(AClass):\n",
    "    pass\n",
    "\n",
    "bc = BClass()\n",
    "help(bc)"
   ]
  },
  {
   "cell_type": "code",
   "execution_count": 55,
   "id": "b5d67c90-4601-41cd-88a2-82cfcc299698",
   "metadata": {},
   "outputs": [
    {
     "data": {
      "text/plain": [
       "['__class__',\n",
       " '__delattr__',\n",
       " '__dict__',\n",
       " '__dir__',\n",
       " '__doc__',\n",
       " '__eq__',\n",
       " '__format__',\n",
       " '__ge__',\n",
       " '__getattribute__',\n",
       " '__gt__',\n",
       " '__hash__',\n",
       " '__init__',\n",
       " '__init_subclass__',\n",
       " '__le__',\n",
       " '__lt__',\n",
       " '__module__',\n",
       " '__ne__',\n",
       " '__new__',\n",
       " '__reduce__',\n",
       " '__reduce_ex__',\n",
       " '__repr__',\n",
       " '__setattr__',\n",
       " '__sizeof__',\n",
       " '__str__',\n",
       " '__subclasshook__',\n",
       " '__weakref__']"
      ]
     },
     "execution_count": 55,
     "metadata": {},
     "output_type": "execute_result"
    }
   ],
   "source": [
    "dir(ac)"
   ]
  },
  {
   "cell_type": "code",
   "execution_count": 56,
   "id": "6141ea97-2031-43df-9748-1573ee6d6bd0",
   "metadata": {},
   "outputs": [
    {
     "data": {
      "text/plain": [
       "['__class__',\n",
       " '__delattr__',\n",
       " '__dict__',\n",
       " '__dir__',\n",
       " '__doc__',\n",
       " '__eq__',\n",
       " '__format__',\n",
       " '__ge__',\n",
       " '__getattribute__',\n",
       " '__gt__',\n",
       " '__hash__',\n",
       " '__init__',\n",
       " '__init_subclass__',\n",
       " '__le__',\n",
       " '__lt__',\n",
       " '__module__',\n",
       " '__ne__',\n",
       " '__new__',\n",
       " '__reduce__',\n",
       " '__reduce_ex__',\n",
       " '__repr__',\n",
       " '__setattr__',\n",
       " '__sizeof__',\n",
       " '__str__',\n",
       " '__subclasshook__',\n",
       " '__weakref__',\n",
       " 'attribute_a']"
      ]
     },
     "execution_count": 56,
     "metadata": {},
     "output_type": "execute_result"
    }
   ],
   "source": [
    "ac.attribute_a = 'name'\n",
    "dir(ac)"
   ]
  },
  {
   "cell_type": "code",
   "execution_count": 57,
   "id": "1882c27b-6ef0-4582-ab19-536c11fe52a4",
   "metadata": {},
   "outputs": [
    {
     "data": {
      "text/plain": [
       "['__class__',\n",
       " '__delattr__',\n",
       " '__dict__',\n",
       " '__dir__',\n",
       " '__doc__',\n",
       " '__eq__',\n",
       " '__format__',\n",
       " '__ge__',\n",
       " '__getattribute__',\n",
       " '__gt__',\n",
       " '__hash__',\n",
       " '__init__',\n",
       " '__init_subclass__',\n",
       " '__le__',\n",
       " '__lt__',\n",
       " '__module__',\n",
       " '__ne__',\n",
       " '__new__',\n",
       " '__reduce__',\n",
       " '__reduce_ex__',\n",
       " '__repr__',\n",
       " '__setattr__',\n",
       " '__sizeof__',\n",
       " '__str__',\n",
       " '__subclasshook__',\n",
       " '__weakref__',\n",
       " 'a',\n",
       " 'func']"
      ]
     },
     "execution_count": 57,
     "metadata": {},
     "output_type": "execute_result"
    }
   ],
   "source": [
    "class AFullClass():\n",
    "    def __init__(self, inputs):\n",
    "        self.a = 'a'\n",
    "\n",
    "    def func(self, inputs):\n",
    "        pass\n",
    "\n",
    "afc = AFullClass('a')\n",
    "\n",
    "dir(afc)"
   ]
  },
  {
   "cell_type": "code",
   "execution_count": 58,
   "id": "dc163c4a-9257-46e4-964b-e467d50e10d3",
   "metadata": {},
   "outputs": [
    {
     "name": "stdout",
     "output_type": "stream",
     "text": [
      "Help on class AFullClass in module __main__:\n",
      "\n",
      "class AFullClass(builtins.object)\n",
      " |  AFullClass(inputs)\n",
      " |  \n",
      " |  Methods defined here:\n",
      " |  \n",
      " |  __init__(self, inputs)\n",
      " |      Initialize self.  See help(type(self)) for accurate signature.\n",
      " |  \n",
      " |  func(self, inputs)\n",
      " |  \n",
      " |  ----------------------------------------------------------------------\n",
      " |  Data descriptors defined here:\n",
      " |  \n",
      " |  __dict__\n",
      " |      dictionary for instance variables (if defined)\n",
      " |  \n",
      " |  __weakref__\n",
      " |      list of weak references to the object (if defined)\n",
      "\n"
     ]
    }
   ],
   "source": [
    "help(AFullClass)"
   ]
  },
  {
   "cell_type": "code",
   "execution_count": 59,
   "id": "1e4c0ab2-2bc8-4887-999f-262ef6dfb74f",
   "metadata": {},
   "outputs": [],
   "source": [
    "import info"
   ]
  },
  {
   "cell_type": "code",
   "execution_count": 60,
   "id": "1bffc1ee-c180-4370-8ed1-e587fb1b9651",
   "metadata": {},
   "outputs": [
    {
     "name": "stdout",
     "output_type": "stream",
     "text": [
      "Help on module info:\n",
      "\n",
      "NAME\n",
      "    info\n",
      "\n",
      "FUNCTIONS\n",
      "    change_name(new_name)\n",
      "    \n",
      "    get_name()\n",
      "\n",
      "DATA\n",
      "    name = 'Doris'\n",
      "\n",
      "FILE\n",
      "    /Users/doris/workshop/info.py\n",
      "\n",
      "\n"
     ]
    }
   ],
   "source": [
    "help(info)"
   ]
  },
  {
   "cell_type": "code",
   "execution_count": 61,
   "id": "f84c06e3-47ae-4c1f-b75c-2a0677423381",
   "metadata": {},
   "outputs": [
    {
     "data": {
      "text/plain": [
       "'Doris'"
      ]
     },
     "execution_count": 61,
     "metadata": {},
     "output_type": "execute_result"
    }
   ],
   "source": [
    "info.name"
   ]
  },
  {
   "cell_type": "code",
   "execution_count": 62,
   "id": "e394bd28-db79-42b1-bcc0-8b54584038a5",
   "metadata": {},
   "outputs": [
    {
     "name": "stdout",
     "output_type": "stream",
     "text": [
      "No Python documentation found for 'Doris'.\n",
      "Use help() to get the interactive help utility.\n",
      "Use help(str) for help on the str class.\n",
      "\n"
     ]
    }
   ],
   "source": [
    "help(info.name)"
   ]
  },
  {
   "cell_type": "code",
   "execution_count": 63,
   "id": "743ff7d2-84dc-42c0-a994-97f8bead6937",
   "metadata": {},
   "outputs": [
    {
     "name": "stdout",
     "output_type": "stream",
     "text": [
      "Python I.ipynb  Python II.ipynb \u001b[34m__pycache__\u001b[m\u001b[m     info.py         \u001b[34mpython-data\u001b[m\u001b[m\n"
     ]
    }
   ],
   "source": [
    "!ls"
   ]
  },
  {
   "cell_type": "code",
   "execution_count": 64,
   "id": "f7d642fe-781f-4271-b578-ee5afe25bf98",
   "metadata": {},
   "outputs": [
    {
     "name": "stdout",
     "output_type": "stream",
     "text": [
      "/Users/doris/workshop\n"
     ]
    }
   ],
   "source": [
    "!pwd"
   ]
  },
  {
   "cell_type": "markdown",
   "id": "2788b693-ea39-4525-956d-926b9a5f5b83",
   "metadata": {},
   "source": [
    "# Defensive programming, dealing with errors, debugging"
   ]
  },
  {
   "cell_type": "markdown",
   "id": "601e1733-28dd-4df5-a229-d187bbc2cadd",
   "metadata": {},
   "source": [
    "- syntax error\n",
    "- runtime error\n",
    "- logic error"
   ]
  },
  {
   "cell_type": "code",
   "execution_count": 65,
   "id": "600f382e-91e7-407b-8ef6-5b254f65feab",
   "metadata": {},
   "outputs": [
    {
     "ename": "SyntaxError",
     "evalue": "expected ':' (1862256288.py, line 1)",
     "output_type": "error",
     "traceback": [
      "\u001b[0;36m  Cell \u001b[0;32mIn[65], line 1\u001b[0;36m\u001b[0m\n\u001b[0;31m    def sqaure(x)\u001b[0m\n\u001b[0m                 ^\u001b[0m\n\u001b[0;31mSyntaxError\u001b[0m\u001b[0;31m:\u001b[0m expected ':'\n"
     ]
    }
   ],
   "source": [
    "def sqaure(x)\n",
    "    return x**2"
   ]
  },
  {
   "cell_type": "code",
   "execution_count": 66,
   "id": "49d3946b-4818-4cb7-92a4-3049a4f26093",
   "metadata": {},
   "outputs": [
    {
     "ename": "IndentationError",
     "evalue": "expected an indented block after function definition on line 1 (1964778162.py, line 2)",
     "output_type": "error",
     "traceback": [
      "\u001b[0;36m  Cell \u001b[0;32mIn[66], line 2\u001b[0;36m\u001b[0m\n\u001b[0;31m    return x**2\u001b[0m\n\u001b[0m    ^\u001b[0m\n\u001b[0;31mIndentationError\u001b[0m\u001b[0;31m:\u001b[0m expected an indented block after function definition on line 1\n"
     ]
    }
   ],
   "source": [
    "def square(x):\n",
    "return x**2"
   ]
  },
  {
   "cell_type": "code",
   "execution_count": 67,
   "id": "d66868bc-7f94-4acf-971f-436fe09685bd",
   "metadata": {},
   "outputs": [],
   "source": [
    "def sqaure(number):\n",
    "    return numer ** 2"
   ]
  },
  {
   "cell_type": "code",
   "execution_count": 68,
   "id": "51381757-5fd3-47f1-af78-e99104fe817c",
   "metadata": {},
   "outputs": [
    {
     "ename": "NameError",
     "evalue": "name 'square' is not defined",
     "output_type": "error",
     "traceback": [
      "\u001b[0;31m---------------------------------------------------------------------------\u001b[0m",
      "\u001b[0;31mNameError\u001b[0m                                 Traceback (most recent call last)",
      "Cell \u001b[0;32mIn[68], line 1\u001b[0m\n\u001b[0;32m----> 1\u001b[0m \u001b[43msquare\u001b[49m(\u001b[38;5;241m4\u001b[39m)\n",
      "\u001b[0;31mNameError\u001b[0m: name 'square' is not defined"
     ]
    }
   ],
   "source": [
    "square(4)"
   ]
  },
  {
   "cell_type": "code",
   "execution_count": 71,
   "id": "badae933-444c-4333-a568-303c797329fd",
   "metadata": {},
   "outputs": [
    {
     "name": "stdout",
     "output_type": "stream",
     "text": [
      "8\n",
      "4\n"
     ]
    }
   ],
   "source": [
    "def square(x):\n",
    "    return x + x\n",
    "\n",
    "print(square(4))\n",
    "print(square(2))"
   ]
  },
  {
   "cell_type": "code",
   "execution_count": 72,
   "id": "aaee358c-be0c-4c19-903a-65507e8cd80e",
   "metadata": {},
   "outputs": [],
   "source": [
    "assert square(2) == 4"
   ]
  },
  {
   "cell_type": "code",
   "execution_count": 73,
   "id": "3f28eeab-5376-47c9-acab-909be2fd8e14",
   "metadata": {},
   "outputs": [
    {
     "ename": "AssertionError",
     "evalue": "square of 4 should be 16",
     "output_type": "error",
     "traceback": [
      "\u001b[0;31m---------------------------------------------------------------------------\u001b[0m",
      "\u001b[0;31mAssertionError\u001b[0m                            Traceback (most recent call last)",
      "Cell \u001b[0;32mIn[73], line 1\u001b[0m\n\u001b[0;32m----> 1\u001b[0m \u001b[38;5;28;01massert\u001b[39;00m square(\u001b[38;5;241m4\u001b[39m) \u001b[38;5;241m==\u001b[39m \u001b[38;5;241m16\u001b[39m, \u001b[38;5;124m'\u001b[39m\u001b[38;5;124msquare of 4 should be 16\u001b[39m\u001b[38;5;124m'\u001b[39m\n",
      "\u001b[0;31mAssertionError\u001b[0m: square of 4 should be 16"
     ]
    }
   ],
   "source": [
    "assert square(4) == 16, 'square of 4 should be 16'"
   ]
  },
  {
   "cell_type": "code",
   "execution_count": 74,
   "id": "00f2d569-c341-4e7b-9972-8f6eefcbaf7a",
   "metadata": {},
   "outputs": [
    {
     "ename": "AssertionError",
     "evalue": "",
     "output_type": "error",
     "traceback": [
      "\u001b[0;31m---------------------------------------------------------------------------\u001b[0m",
      "\u001b[0;31mAssertionError\u001b[0m                            Traceback (most recent call last)",
      "Cell \u001b[0;32mIn[74], line 1\u001b[0m\n\u001b[0;32m----> 1\u001b[0m \u001b[38;5;28;01massert\u001b[39;00m square(\u001b[38;5;241m3\u001b[39m) \u001b[38;5;241m==\u001b[39m \u001b[38;5;241m9\u001b[39m\n",
      "\u001b[0;31mAssertionError\u001b[0m: "
     ]
    }
   ],
   "source": [
    "assert square(3) == 9"
   ]
  },
  {
   "cell_type": "code",
   "execution_count": 75,
   "id": "6587a332-51fa-4658-9404-45046618335f",
   "metadata": {},
   "outputs": [
    {
     "name": "stdout",
     "output_type": "stream",
     "text": [
      "> \u001b[0;32m/tmp/ipykernel_45997/2942688946.py\u001b[0m(6)\u001b[0;36msquare\u001b[0;34m()\u001b[0m\n",
      "\u001b[0;32m      4 \u001b[0;31m    \u001b[0mr\u001b[0m \u001b[0;34m=\u001b[0m \u001b[0mx\u001b[0m \u001b[0;34m+\u001b[0m \u001b[0mx\u001b[0m\u001b[0;34m\u001b[0m\u001b[0;34m\u001b[0m\u001b[0m\n",
      "\u001b[0m\u001b[0;32m      5 \u001b[0;31m    \u001b[0mpdb\u001b[0m\u001b[0;34m.\u001b[0m\u001b[0mset_trace\u001b[0m\u001b[0;34m(\u001b[0m\u001b[0;34m)\u001b[0m\u001b[0;34m\u001b[0m\u001b[0;34m\u001b[0m\u001b[0m\n",
      "\u001b[0m\u001b[0;32m----> 6 \u001b[0;31m    \u001b[0;32mreturn\u001b[0m \u001b[0mr\u001b[0m\u001b[0;34m\u001b[0m\u001b[0;34m\u001b[0m\u001b[0m\n",
      "\u001b[0m\u001b[0;32m      7 \u001b[0;31m\u001b[0;34m\u001b[0m\u001b[0m\n",
      "\u001b[0m\u001b[0;32m      8 \u001b[0;31m\u001b[0msquare\u001b[0m\u001b[0;34m(\u001b[0m\u001b[0;36m2\u001b[0m\u001b[0;34m)\u001b[0m\u001b[0;34m\u001b[0m\u001b[0;34m\u001b[0m\u001b[0m\n",
      "\u001b[0m\n"
     ]
    },
    {
     "name": "stdin",
     "output_type": "stream",
     "text": [
      "ipdb>  x\n"
     ]
    },
    {
     "name": "stdout",
     "output_type": "stream",
     "text": [
      "2\n"
     ]
    },
    {
     "name": "stdin",
     "output_type": "stream",
     "text": [
      "ipdb>  r\n"
     ]
    },
    {
     "name": "stdout",
     "output_type": "stream",
     "text": [
      "--Return--\n",
      "4\n",
      "> \u001b[0;32m/tmp/ipykernel_45997/2942688946.py\u001b[0m(6)\u001b[0;36msquare\u001b[0;34m()\u001b[0m\n",
      "\u001b[0;32m      4 \u001b[0;31m    \u001b[0mr\u001b[0m \u001b[0;34m=\u001b[0m \u001b[0mx\u001b[0m \u001b[0;34m+\u001b[0m \u001b[0mx\u001b[0m\u001b[0;34m\u001b[0m\u001b[0;34m\u001b[0m\u001b[0m\n",
      "\u001b[0m\u001b[0;32m      5 \u001b[0;31m    \u001b[0mpdb\u001b[0m\u001b[0;34m.\u001b[0m\u001b[0mset_trace\u001b[0m\u001b[0;34m(\u001b[0m\u001b[0;34m)\u001b[0m\u001b[0;34m\u001b[0m\u001b[0;34m\u001b[0m\u001b[0m\n",
      "\u001b[0m\u001b[0;32m----> 6 \u001b[0;31m    \u001b[0;32mreturn\u001b[0m \u001b[0mr\u001b[0m\u001b[0;34m\u001b[0m\u001b[0;34m\u001b[0m\u001b[0m\n",
      "\u001b[0m\u001b[0;32m      7 \u001b[0;31m\u001b[0;34m\u001b[0m\u001b[0m\n",
      "\u001b[0m\u001b[0;32m      8 \u001b[0;31m\u001b[0msquare\u001b[0m\u001b[0;34m(\u001b[0m\u001b[0;36m2\u001b[0m\u001b[0;34m)\u001b[0m\u001b[0;34m\u001b[0m\u001b[0;34m\u001b[0m\u001b[0m\n",
      "\u001b[0m\n"
     ]
    },
    {
     "name": "stdin",
     "output_type": "stream",
     "text": [
      "ipdb>  s\n"
     ]
    },
    {
     "name": "stdout",
     "output_type": "stream",
     "text": [
      "--Return--\n",
      "None\n",
      "> \u001b[0;32m/tmp/ipykernel_45997/2942688946.py\u001b[0m(8)\u001b[0;36m<module>\u001b[0;34m()\u001b[0m\n",
      "\u001b[0;32m      5 \u001b[0;31m    \u001b[0mpdb\u001b[0m\u001b[0;34m.\u001b[0m\u001b[0mset_trace\u001b[0m\u001b[0;34m(\u001b[0m\u001b[0;34m)\u001b[0m\u001b[0;34m\u001b[0m\u001b[0;34m\u001b[0m\u001b[0m\n",
      "\u001b[0m\u001b[0;32m      6 \u001b[0;31m    \u001b[0;32mreturn\u001b[0m \u001b[0mr\u001b[0m\u001b[0;34m\u001b[0m\u001b[0;34m\u001b[0m\u001b[0m\n",
      "\u001b[0m\u001b[0;32m      7 \u001b[0;31m\u001b[0;34m\u001b[0m\u001b[0m\n",
      "\u001b[0m\u001b[0;32m----> 8 \u001b[0;31m\u001b[0msquare\u001b[0m\u001b[0;34m(\u001b[0m\u001b[0;36m2\u001b[0m\u001b[0;34m)\u001b[0m\u001b[0;34m\u001b[0m\u001b[0;34m\u001b[0m\u001b[0m\n",
      "\u001b[0m\u001b[0;32m      9 \u001b[0;31m\u001b[0msquare\u001b[0m\u001b[0;34m(\u001b[0m\u001b[0;36m4\u001b[0m\u001b[0;34m)\u001b[0m\u001b[0;34m\u001b[0m\u001b[0;34m\u001b[0m\u001b[0m\n",
      "\u001b[0m\n"
     ]
    },
    {
     "name": "stdin",
     "output_type": "stream",
     "text": [
      "ipdb>  c\n"
     ]
    },
    {
     "name": "stdout",
     "output_type": "stream",
     "text": [
      "> \u001b[0;32m/tmp/ipykernel_45997/2942688946.py\u001b[0m(6)\u001b[0;36msquare\u001b[0;34m()\u001b[0m\n",
      "\u001b[0;32m      4 \u001b[0;31m    \u001b[0mr\u001b[0m \u001b[0;34m=\u001b[0m \u001b[0mx\u001b[0m \u001b[0;34m+\u001b[0m \u001b[0mx\u001b[0m\u001b[0;34m\u001b[0m\u001b[0;34m\u001b[0m\u001b[0m\n",
      "\u001b[0m\u001b[0;32m      5 \u001b[0;31m    \u001b[0mpdb\u001b[0m\u001b[0;34m.\u001b[0m\u001b[0mset_trace\u001b[0m\u001b[0;34m(\u001b[0m\u001b[0;34m)\u001b[0m\u001b[0;34m\u001b[0m\u001b[0;34m\u001b[0m\u001b[0m\n",
      "\u001b[0m\u001b[0;32m----> 6 \u001b[0;31m    \u001b[0;32mreturn\u001b[0m \u001b[0mr\u001b[0m\u001b[0;34m\u001b[0m\u001b[0;34m\u001b[0m\u001b[0m\n",
      "\u001b[0m\u001b[0;32m      7 \u001b[0;31m\u001b[0;34m\u001b[0m\u001b[0m\n",
      "\u001b[0m\u001b[0;32m      8 \u001b[0;31m\u001b[0msquare\u001b[0m\u001b[0;34m(\u001b[0m\u001b[0;36m2\u001b[0m\u001b[0;34m)\u001b[0m\u001b[0;34m\u001b[0m\u001b[0;34m\u001b[0m\u001b[0m\n",
      "\u001b[0m\n"
     ]
    },
    {
     "name": "stdin",
     "output_type": "stream",
     "text": [
      "ipdb>  x\n"
     ]
    },
    {
     "name": "stdout",
     "output_type": "stream",
     "text": [
      "4\n"
     ]
    },
    {
     "name": "stdin",
     "output_type": "stream",
     "text": [
      "ipdb>  r\n"
     ]
    },
    {
     "name": "stdout",
     "output_type": "stream",
     "text": [
      "--Return--\n",
      "8\n",
      "> \u001b[0;32m/tmp/ipykernel_45997/2942688946.py\u001b[0m(6)\u001b[0;36msquare\u001b[0;34m()\u001b[0m\n",
      "\u001b[0;32m      4 \u001b[0;31m    \u001b[0mr\u001b[0m \u001b[0;34m=\u001b[0m \u001b[0mx\u001b[0m \u001b[0;34m+\u001b[0m \u001b[0mx\u001b[0m\u001b[0;34m\u001b[0m\u001b[0;34m\u001b[0m\u001b[0m\n",
      "\u001b[0m\u001b[0;32m      5 \u001b[0;31m    \u001b[0mpdb\u001b[0m\u001b[0;34m.\u001b[0m\u001b[0mset_trace\u001b[0m\u001b[0;34m(\u001b[0m\u001b[0;34m)\u001b[0m\u001b[0;34m\u001b[0m\u001b[0;34m\u001b[0m\u001b[0m\n",
      "\u001b[0m\u001b[0;32m----> 6 \u001b[0;31m    \u001b[0;32mreturn\u001b[0m \u001b[0mr\u001b[0m\u001b[0;34m\u001b[0m\u001b[0;34m\u001b[0m\u001b[0m\n",
      "\u001b[0m\u001b[0;32m      7 \u001b[0;31m\u001b[0;34m\u001b[0m\u001b[0m\n",
      "\u001b[0m\u001b[0;32m      8 \u001b[0;31m\u001b[0msquare\u001b[0m\u001b[0;34m(\u001b[0m\u001b[0;36m2\u001b[0m\u001b[0;34m)\u001b[0m\u001b[0;34m\u001b[0m\u001b[0;34m\u001b[0m\u001b[0m\n",
      "\u001b[0m\n"
     ]
    },
    {
     "name": "stdin",
     "output_type": "stream",
     "text": [
      "ipdb>  c\n"
     ]
    },
    {
     "data": {
      "text/plain": [
       "8"
      ]
     },
     "execution_count": 75,
     "metadata": {},
     "output_type": "execute_result"
    }
   ],
   "source": [
    "import pdb\n",
    "\n",
    "def square(x):\n",
    "    r = x + x\n",
    "    pdb.set_trace()\n",
    "    return r\n",
    "\n",
    "square(2)\n",
    "square(4)"
   ]
  },
  {
   "cell_type": "code",
   "execution_count": 77,
   "id": "556b6a33-4aba-46ac-b5d4-509d4b188166",
   "metadata": {},
   "outputs": [
    {
     "data": {
      "text/plain": [
       "8"
      ]
     },
     "execution_count": 77,
     "metadata": {},
     "output_type": "execute_result"
    }
   ],
   "source": [
    "def square(x):\n",
    "    r = x + x\n",
    "    return r\n",
    "\n",
    "square(2)\n",
    "square(4)"
   ]
  },
  {
   "cell_type": "markdown",
   "id": "a7ca2cce-06b4-49e8-a85d-9e92728db56b",
   "metadata": {},
   "source": [
    "# command-line program"
   ]
  },
  {
   "cell_type": "code",
   "execution_count": 78,
   "id": "77735dbe-1a0e-4d61-88e5-8aef3249b93a",
   "metadata": {},
   "outputs": [
    {
     "name": "stderr",
     "output_type": "stream",
     "text": [
      "8768.87s - pydevd: Sending message related to process being replaced timed-out after 5 seconds\n"
     ]
    }
   ],
   "source": [
    "!python info.py"
   ]
  },
  {
   "cell_type": "code",
   "execution_count": 79,
   "id": "8dcdb222-99c0-4758-aeb0-5cde48ab40e0",
   "metadata": {},
   "outputs": [
    {
     "name": "stderr",
     "output_type": "stream",
     "text": [
      "8886.94s - pydevd: Sending message related to process being replaced timed-out after 5 seconds\n"
     ]
    },
    {
     "name": "stdout",
     "output_type": "stream",
     "text": [
      "Doris\n"
     ]
    }
   ],
   "source": [
    "!python info.py"
   ]
  },
  {
   "cell_type": "code",
   "execution_count": 80,
   "id": "94578d32-5a49-4039-8477-8c69dbf258c9",
   "metadata": {},
   "outputs": [],
   "source": [
    "import info"
   ]
  },
  {
   "cell_type": "code",
   "execution_count": 1,
   "id": "ce43b8da-a481-4a8e-9f7b-3418e718710a",
   "metadata": {},
   "outputs": [
    {
     "name": "stdout",
     "output_type": "stream",
     "text": [
      "Doris\n"
     ]
    }
   ],
   "source": [
    "import info"
   ]
  },
  {
   "cell_type": "code",
   "execution_count": 2,
   "id": "7061e92c-9f9f-41c3-8f50-b191d745f6c7",
   "metadata": {},
   "outputs": [
    {
     "data": {
      "text/plain": [
       "'info'"
      ]
     },
     "execution_count": 2,
     "metadata": {},
     "output_type": "execute_result"
    }
   ],
   "source": [
    "info.__name__"
   ]
  },
  {
   "cell_type": "code",
   "execution_count": 1,
   "id": "e1c67da4-ef83-495e-aab4-f62b7403940b",
   "metadata": {},
   "outputs": [
    {
     "name": "stdout",
     "output_type": "stream",
     "text": [
      "Doris\n"
     ]
    }
   ],
   "source": [
    "import info"
   ]
  },
  {
   "cell_type": "code",
   "execution_count": 2,
   "id": "409eb462-ca22-446b-a9cd-ad48c0ca7306",
   "metadata": {},
   "outputs": [],
   "source": [
    "import minfo"
   ]
  },
  {
   "cell_type": "code",
   "execution_count": 3,
   "id": "62c697ae-1c38-4721-87aa-361be3cd75d0",
   "metadata": {},
   "outputs": [],
   "source": [
    "import info"
   ]
  },
  {
   "cell_type": "markdown",
   "id": "8df9859b-4ffa-4609-af55-727ab83af0a9",
   "metadata": {},
   "source": [
    "# working with self-defined library"
   ]
  },
  {
   "cell_type": "code",
   "execution_count": 4,
   "id": "62ca112e-f74f-41ce-a8e9-fea9001e41b6",
   "metadata": {},
   "outputs": [
    {
     "data": {
      "text/plain": [
       "'/Users/doris/mambaforge/lib/python3.10/io.py'"
      ]
     },
     "execution_count": 4,
     "metadata": {},
     "output_type": "execute_result"
    }
   ],
   "source": [
    "import io\n",
    "\n",
    "io.__file__"
   ]
  },
  {
   "cell_type": "code",
   "execution_count": 5,
   "id": "0f775011-567a-4064-84c9-4a71332b4cda",
   "metadata": {},
   "outputs": [
    {
     "data": {
      "text/plain": [
       "'/Users/doris/mambaforge/lib/python3.10/site-packages/numpy/__init__.py'"
      ]
     },
     "execution_count": 5,
     "metadata": {},
     "output_type": "execute_result"
    }
   ],
   "source": [
    "import numpy\n",
    "\n",
    "numpy.__file__"
   ]
  },
  {
   "cell_type": "code",
   "execution_count": 6,
   "id": "b551dc2e-8f3a-4116-baf3-a69ffd5e1d2c",
   "metadata": {},
   "outputs": [],
   "source": [
    "!mkdir lib"
   ]
  },
  {
   "cell_type": "code",
   "execution_count": 7,
   "id": "a610f406-1fcd-46b0-8b44-2679a9969a80",
   "metadata": {},
   "outputs": [
    {
     "name": "stdout",
     "output_type": "stream",
     "text": [
      "Python I.ipynb  \u001b[34m__pycache__\u001b[m\u001b[m     \u001b[34mlib\u001b[m\u001b[m             pinfo.py\n",
      "Python II.ipynb info.py         minfo.py        \u001b[34mpython-data\u001b[m\u001b[m\n"
     ]
    }
   ],
   "source": [
    "!ls"
   ]
  },
  {
   "cell_type": "code",
   "execution_count": 8,
   "id": "14b9e38f-4f44-434c-92a4-e0adc5e691d4",
   "metadata": {},
   "outputs": [],
   "source": [
    "!touch lib/__init__.py"
   ]
  },
  {
   "cell_type": "code",
   "execution_count": 9,
   "id": "9e93f066-12f7-4f6e-82c4-7488017ad159",
   "metadata": {},
   "outputs": [],
   "source": [
    "!touch lib/info.py"
   ]
  },
  {
   "cell_type": "code",
   "execution_count": 11,
   "id": "9fbaadf9-1e44-4f89-aab0-0ea20bc05f5a",
   "metadata": {},
   "outputs": [],
   "source": [
    "import lib"
   ]
  },
  {
   "cell_type": "code",
   "execution_count": 12,
   "id": "63f5db21-9174-4790-864c-91d11265db43",
   "metadata": {},
   "outputs": [
    {
     "data": {
      "text/plain": [
       "['__builtins__',\n",
       " '__cached__',\n",
       " '__doc__',\n",
       " '__file__',\n",
       " '__loader__',\n",
       " '__name__',\n",
       " '__package__',\n",
       " '__path__',\n",
       " '__spec__']"
      ]
     },
     "execution_count": 12,
     "metadata": {},
     "output_type": "execute_result"
    }
   ],
   "source": [
    "dir(lib)"
   ]
  },
  {
   "cell_type": "code",
   "execution_count": 19,
   "id": "a4471c0a-e4f4-465e-91a1-60c2ee20be40",
   "metadata": {},
   "outputs": [],
   "source": [
    "!cat lib/__init__.py"
   ]
  },
  {
   "cell_type": "code",
   "execution_count": 13,
   "id": "c1ce927b-0fcb-406c-961a-1995144c3b0e",
   "metadata": {},
   "outputs": [
    {
     "name": "stdout",
     "output_type": "stream",
     "text": [
      "import sys\n",
      "\n",
      "name = 'Doris'\n",
      "\n",
      "def get_name():\n",
      "    return name\n",
      "\n",
      "\n",
      "def change_name(new_name):\n",
      "    global name\n",
      "    name = new_name\n",
      "\n",
      "if __name__ == '__main__':\n",
      "    print(sys.argv)\n",
      "    for i in sys.argv[1:]:\n",
      "        print(i)\n",
      "    print(name)"
     ]
    }
   ],
   "source": [
    "!cat lib/info.py"
   ]
  },
  {
   "cell_type": "code",
   "execution_count": 14,
   "id": "0ade24d2-672f-4a05-85ea-a8ae0af4ec65",
   "metadata": {},
   "outputs": [],
   "source": [
    "import lib.info"
   ]
  },
  {
   "cell_type": "code",
   "execution_count": 15,
   "id": "2ca482bd-aef8-4809-92d7-c7fe4e4b8d7e",
   "metadata": {},
   "outputs": [
    {
     "data": {
      "text/plain": [
       "['__builtins__',\n",
       " '__cached__',\n",
       " '__doc__',\n",
       " '__file__',\n",
       " '__loader__',\n",
       " '__name__',\n",
       " '__package__',\n",
       " '__path__',\n",
       " '__spec__',\n",
       " 'info']"
      ]
     },
     "execution_count": 15,
     "metadata": {},
     "output_type": "execute_result"
    }
   ],
   "source": [
    "dir(lib)"
   ]
  },
  {
   "cell_type": "code",
   "execution_count": 16,
   "id": "38de5f32-a0be-4c7e-a3e7-338a07c9c60c",
   "metadata": {},
   "outputs": [
    {
     "data": {
      "text/plain": [
       "['__builtins__',\n",
       " '__cached__',\n",
       " '__doc__',\n",
       " '__file__',\n",
       " '__loader__',\n",
       " '__name__',\n",
       " '__package__',\n",
       " '__spec__',\n",
       " 'change_name',\n",
       " 'get_name',\n",
       " 'name',\n",
       " 'sys']"
      ]
     },
     "execution_count": 16,
     "metadata": {},
     "output_type": "execute_result"
    }
   ],
   "source": [
    "dir(lib.info)"
   ]
  },
  {
   "cell_type": "code",
   "execution_count": 17,
   "id": "62e09fc4-cf72-4d81-98e0-a7fbb90d8535",
   "metadata": {},
   "outputs": [
    {
     "name": "stdout",
     "output_type": "stream",
     "text": [
      "Help on package lib:\n",
      "\n",
      "NAME\n",
      "    lib\n",
      "\n",
      "PACKAGE CONTENTS\n",
      "    info\n",
      "\n",
      "FILE\n",
      "    /Users/doris/workshop/lib/__init__.py\n",
      "\n",
      "\n"
     ]
    }
   ],
   "source": [
    "help(lib)"
   ]
  },
  {
   "cell_type": "code",
   "execution_count": 18,
   "id": "e40983c4-954f-433b-8237-442cfca3b359",
   "metadata": {},
   "outputs": [
    {
     "name": "stdout",
     "output_type": "stream",
     "text": [
      "Help on module lib.info in lib:\n",
      "\n",
      "NAME\n",
      "    lib.info\n",
      "\n",
      "FUNCTIONS\n",
      "    change_name(new_name)\n",
      "    \n",
      "    get_name()\n",
      "\n",
      "DATA\n",
      "    name = 'Doris'\n",
      "\n",
      "FILE\n",
      "    /Users/doris/workshop/lib/info.py\n",
      "\n",
      "\n"
     ]
    }
   ],
   "source": [
    "help(lib.info)"
   ]
  },
  {
   "cell_type": "code",
   "execution_count": 1,
   "id": "144df29e-862b-4f80-be26-c928b2fca64c",
   "metadata": {},
   "outputs": [],
   "source": [
    "import lib"
   ]
  },
  {
   "cell_type": "code",
   "execution_count": 2,
   "id": "f7a1b462-03d8-47de-a455-5d3dd0d48f75",
   "metadata": {},
   "outputs": [
    {
     "data": {
      "text/plain": [
       "['__builtins__',\n",
       " '__cached__',\n",
       " '__doc__',\n",
       " '__file__',\n",
       " '__loader__',\n",
       " '__name__',\n",
       " '__package__',\n",
       " '__path__',\n",
       " '__spec__',\n",
       " 'info',\n",
       " 'lib']"
      ]
     },
     "execution_count": 2,
     "metadata": {},
     "output_type": "execute_result"
    }
   ],
   "source": [
    "dir(lib)"
   ]
  },
  {
   "cell_type": "code",
   "execution_count": 3,
   "id": "0b1f217e-a852-4431-bd7c-1c0a94a640fd",
   "metadata": {},
   "outputs": [
    {
     "data": {
      "text/plain": [
       "<module 'lib' from '/Users/doris/workshop/lib/__init__.py'>"
      ]
     },
     "execution_count": 3,
     "metadata": {},
     "output_type": "execute_result"
    }
   ],
   "source": [
    "lib.lib"
   ]
  },
  {
   "cell_type": "code",
   "execution_count": 1,
   "id": "359717e0-595c-4105-95ba-17d299326cf3",
   "metadata": {},
   "outputs": [
    {
     "data": {
      "text/plain": [
       "['__builtins__',\n",
       " '__cached__',\n",
       " '__doc__',\n",
       " '__file__',\n",
       " '__loader__',\n",
       " '__name__',\n",
       " '__package__',\n",
       " '__path__',\n",
       " '__spec__',\n",
       " 'info']"
      ]
     },
     "execution_count": 1,
     "metadata": {},
     "output_type": "execute_result"
    }
   ],
   "source": [
    "import lib\n",
    "dir(lib)"
   ]
  },
  {
   "cell_type": "code",
   "execution_count": 2,
   "id": "8d187fa8-65e1-44be-83bb-01e78519dd77",
   "metadata": {},
   "outputs": [
    {
     "data": {
      "text/plain": [
       "['__builtins__',\n",
       " '__cached__',\n",
       " '__doc__',\n",
       " '__file__',\n",
       " '__loader__',\n",
       " '__name__',\n",
       " '__package__',\n",
       " '__spec__',\n",
       " 'change_name',\n",
       " 'get_name',\n",
       " 'name',\n",
       " 'sys']"
      ]
     },
     "execution_count": 2,
     "metadata": {},
     "output_type": "execute_result"
    }
   ],
   "source": [
    "dir(lib.info)"
   ]
  },
  {
   "cell_type": "markdown",
   "id": "8d587316-77cc-4291-84d7-138a6ac7ee0f",
   "metadata": {},
   "source": [
    "# exercise\n",
    "\n",
    "write a function that finds prime numbers\n",
    "with an input value N\n",
    "then, the return should be a list [2,3,5,..,n], where n is the closest prime number to N"
   ]
  },
  {
   "cell_type": "code",
   "execution_count": 6,
   "id": "95cac648-2c88-471b-b48f-276d001ad141",
   "metadata": {},
   "outputs": [],
   "source": [
    "def find_prime(N):\n",
    "    assert isinstance(N, int), 'N should an int'\n",
    "\n",
    "    if N < 2:\n",
    "        return []\n",
    "    elif N == 2:\n",
    "        return [2]\n",
    "\n",
    "    r = [2]\n",
    "    for i in range(3, N+1, 1):\n",
    "        is_prime = True\n",
    "        for num in r:\n",
    "            if i % num == 0:\n",
    "                is_prime = False\n",
    "        if is_prime:\n",
    "            r.append(i)\n",
    "\n",
    "    return r\n",
    "\n",
    "assert find_prime(1) == []\n",
    "assert find_prime(2) == [2]\n",
    "assert find_prime(3) == [2,3]"
   ]
  },
  {
   "cell_type": "code",
   "execution_count": 5,
   "id": "b5b2fe77-a14a-4484-ae76-fa6f0d450b56",
   "metadata": {},
   "outputs": [
    {
     "data": {
      "text/plain": [
       "0"
      ]
     },
     "execution_count": 5,
     "metadata": {},
     "output_type": "execute_result"
    }
   ],
   "source": [
    "4 % 2"
   ]
  },
  {
   "cell_type": "code",
   "execution_count": 4,
   "id": "13100884-236e-4708-8c55-3ea49667373a",
   "metadata": {},
   "outputs": [
    {
     "data": {
      "text/plain": [
       "1"
      ]
     },
     "execution_count": 4,
     "metadata": {},
     "output_type": "execute_result"
    }
   ],
   "source": [
    "3 % 2"
   ]
  },
  {
   "cell_type": "code",
   "execution_count": 7,
   "id": "372bd880-c96f-44c7-a055-82fc17d529b7",
   "metadata": {},
   "outputs": [
    {
     "data": {
      "text/plain": [
       "[2, 3, 5, 7, 11, 13]"
      ]
     },
     "execution_count": 7,
     "metadata": {},
     "output_type": "execute_result"
    }
   ],
   "source": [
    "find_prime(15)"
   ]
  },
  {
   "cell_type": "code",
   "execution_count": null,
   "id": "fcd188cd-bc2e-4eff-a3fa-fb77c38ba35a",
   "metadata": {},
   "outputs": [],
   "source": []
  }
 ],
 "metadata": {
  "kernelspec": {
   "display_name": "Python 3 (ipykernel)",
   "language": "python",
   "name": "python3"
  },
  "language_info": {
   "codemirror_mode": {
    "name": "ipython",
    "version": 3
   },
   "file_extension": ".py",
   "mimetype": "text/x-python",
   "name": "python",
   "nbconvert_exporter": "python",
   "pygments_lexer": "ipython3",
   "version": "3.10.10"
  }
 },
 "nbformat": 4,
 "nbformat_minor": 5
}
